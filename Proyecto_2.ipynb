{
  "nbformat": 4,
  "nbformat_minor": 0,
  "metadata": {
    "colab": {
      "provenance": []
    },
    "kernelspec": {
      "name": "python3",
      "display_name": "Python 3"
    },
    "language_info": {
      "name": "python"
    }
  },
  "cells": [
    {
      "cell_type": "markdown",
      "source": [
        "Ejercicio nro. 1"
      ],
      "metadata": {
        "id": "02HMatKP0sPO"
      }
    },
    {
      "cell_type": "code",
      "execution_count": null,
      "metadata": {
        "colab": {
          "base_uri": "https://localhost:8080/"
        },
        "id": "79yghbY7KWt9",
        "outputId": "4e605836-bc51-4d82-edc1-73ff7941b9a8"
      },
      "outputs": [
        {
          "output_type": "stream",
          "name": "stdout",
          "text": [
            "Requirement already satisfied: pillow in /usr/local/lib/python3.10/dist-packages (9.4.0)\n"
          ]
        }
      ],
      "source": [
        "!pip install pillow\n",
        "from PIL import Image\n",
        "import requests\n",
        "from io import BytesIO"
      ]
    },
    {
      "cell_type": "code",
      "source": [
        "print('▀ Imágenes para ver ▀')\n",
        "print(' Logro \\n Escritorio \\n Colaborativo')\n",
        "# Diccionario con tres imágenes para elegir.\n",
        "imagenes = {\n",
        "            'logro':'''https://img.freepik.com/fotos-premium/retrato-felices-empresarios-pie-oficina-\n",
        "                       mostrando-pulgar-arriba_484651-11267.jpg?size=626&ext=jpg&ga=GA1.1.920655583.\n",
        "                       1698932241&semt=ais''',\n",
        "            'escritorio' : '''https://img.freepik.com/foto-gratis/concepto-fiesta-linea-portatil-alto-\n",
        "                              angulo_23-2149426582.jpg?t=st=1698938079~exp=1698938679~hmac=\n",
        "                              40760bec652fa6a5ccead3cade0b8fe19155d9dd25f4e001112cdefb508eca3d''',\n",
        "            'colaborativo' : '''https://img.freepik.com/foto-gratis/chicas-universitarias-estudiando-\n",
        "                             juntas_23-2149038414.jpg?t=st=1699033022~exp=1699033622~hmac=\n",
        "                             ca7ef8b4cfea0877b6001958a9281acbae997487ec2c9349433cd4601c00f40b'''\n",
        "            }\n",
        "# Diccionario para visualizar la imágen elegida, en una red social, también a elección.\n",
        "# A efectos de este código, las dimensiones son tomadas a la mitad de sus valores originales.\n",
        "sizes_redes = {\n",
        "                'facebook': (600, 315),\n",
        "                'twitter': (512, 256),\n",
        "                'instagram': (540, 283),\n",
        "}\n",
        "def look_image(nombre_imagen, red_social):\n",
        "    ruta = imagenes.get(nombre_imagen)\n",
        "    if ruta:\n",
        "      response = requests.get(ruta)\n",
        "      imagen = Image.open(BytesIO(response.content))\n",
        "      size_redimen = sizes_redes.get(red_social.lower())\n",
        "      if size_redimen:\n",
        "        new_image = imagen.resize((size_redimen))\n",
        "        display(new_image)\n",
        "      else:\n",
        "        print('Red social incorrecta')\n",
        "    else:\n",
        "      print('El nombre de la imagen es incorrecto')\n",
        "nombre_imagen = input('Elija una imágen entre estas opciones: ')\n",
        "nombre_imagen = nombre_imagen.lower()\n",
        "print('▀ Redes Sociales ▀')\n",
        "print(' Facebook \\n Twitter \\n Instagram')\n",
        "red_social = input('Ingrese la red social para visualizar la imágen elegida: ')\n",
        "\n",
        "look_image(nombre_imagen, red_social)"
      ],
      "metadata": {
        "id": "c_sCK_pyORxB"
      },
      "execution_count": null,
      "outputs": []
    },
    {
      "cell_type": "markdown",
      "source": [
        "Ejercicio nro. 2"
      ],
      "metadata": {
        "id": "1DiE0rodXONT"
      }
    },
    {
      "cell_type": "code",
      "source": [
        "import numpy as np\n",
        "import matplotlib.pyplot as plt\n",
        "import cv2\n",
        "from google.colab.patches import cv2_imshow"
      ],
      "metadata": {
        "id": "BE2dLvgUXQlU"
      },
      "execution_count": null,
      "outputs": []
    },
    {
      "cell_type": "code",
      "source": [
        "# Función que ecualiza a traves de su histograma, la imágen 'robot'.\n",
        "def equal(imagen):\n",
        "  img = cv2.imread(imagen, 0) # Lee la imágen, en blanco y negro\n",
        "  equ = cv2.equalizeHist(img) # Proceso de ecualización\n",
        "  hist,bins = np.histogram(img.flatten(),256,[0,256]) # Crea el histograma\n",
        "  fig, axes = plt.subplots(1, 2, figsize=(8, 4))\n",
        "  ax = axes.ravel() # Convierte el array en unidimensional\n",
        "  ax[0].imshow(img, cmap='gray') # Muestra la imágen original en escala de grises\n",
        "  ax[0].set_title('imágen original')\n",
        "  ax[1].imshow(equ, cmap='gray') # Muestra la imágen ecualizada en escala de grises\n",
        "  ax[1].set_title('imágen ecualizada')\n",
        "  cv2.imwrite('robot_imagen_original.png', img) # Guarda la imagen original\n",
        "  cv2.imwrite('robot_imagen_ecualizada.png', equ) # Guarda la imagen ecualizada\n",
        "  plt.show()\n",
        "\n",
        "equal('robot.jpg')\n",
        "\n",
        "# Función que ecualiza a traves de su histograma, la imágen 'sotano'.\n",
        "def equal(imagen):\n",
        "  img2 = cv2.imread(imagen, 0)\n",
        "  equ2 = cv2.equalizeHist(img2)\n",
        "  hist,bins = np.histogram(img2.flatten(),256,[0,256])\n",
        "  fig, axes = plt.subplots(1, 2, figsize=(8, 4))\n",
        "  ax = axes.ravel()\n",
        "  ax[0].imshow(img2, cmap='gray')\n",
        "  ax[0].set_title('imágen original')\n",
        "  ax[1].imshow(equ2, cmap='gray')\n",
        "  ax[1].set_title('imágen ecualizada')\n",
        "  cv2.imwrite('sotano_imagen_original.png', img2)\n",
        "  cv2.imwrite('sotano_imagen_ecualizada.png', equ2)\n",
        "  plt.show()\n",
        "\n",
        "equal('sotano.jpg')"
      ],
      "metadata": {
        "id": "uCj45-LWXTJB"
      },
      "execution_count": null,
      "outputs": []
    },
    {
      "cell_type": "markdown",
      "source": [
        "Ejercicio nro. 3"
      ],
      "metadata": {
        "id": "P6lhBRjUsweR"
      }
    },
    {
      "cell_type": "code",
      "source": [
        "!pip install pillow\n",
        "from PIL import Image,ImageFilter\n",
        "import requests\n",
        "from io import BytesIO\n",
        "import matplotlib.pyplot as plt\n",
        "from IPython.display import display"
      ],
      "metadata": {
        "colab": {
          "base_uri": "https://localhost:8080/"
        },
        "id": "v3CHsYEUsvde",
        "outputId": "5a72f08c-fc8c-49b4-e5d5-3f3c1bcfdf2d"
      },
      "execution_count": 1,
      "outputs": [
        {
          "output_type": "stream",
          "name": "stdout",
          "text": [
            "Requirement already satisfied: pillow in /usr/local/lib/python3.10/dist-packages (9.4.0)\n"
          ]
        }
      ]
    },
    {
      "cell_type": "code",
      "source": [
        "nombres_filtros = {   # Este diccionario titula los subplots que se muestran al final.\n",
        "    ImageFilter.BLUR: 'Blur',\n",
        "    ImageFilter.CONTOUR: 'Contour',\n",
        "    ImageFilter.DETAIL: 'Detail',\n",
        "    ImageFilter.EDGE_ENHANCE: 'Edge Enhance',\n",
        "    ImageFilter.EDGE_ENHANCE_MORE: 'Edge Enhance More',\n",
        "    ImageFilter.EMBOSS: 'Emboss',\n",
        "    ImageFilter.FIND_EDGES: 'Find Edges',\n",
        "    ImageFilter.SHARPEN: 'Sharpen',\n",
        "    ImageFilter.SMOOTH: 'Smooth'\n",
        "}\n",
        "\n",
        "mascota = Image.open('gatito.jpg')\n",
        "\n",
        "print('Elija de la siguiente lista, el filtro que desea aplicar a la imagen')\n",
        "print()\n",
        "print('BLUR \\nCONTOUR \\nDETAIL \\nEDGE ENHANCE \\nEDGE ENHANCE MORE \\nEMBOSS \\nFIND EDGES \\nSHARPEN \\nSMOOTH')\n",
        "filtros = {'BLUR' : ImageFilter.BLUR,  # Este diccionario toma el filtro de acuerdo a la elección.\n",
        "           'CONTOUR' : ImageFilter.CONTOUR,\n",
        "           'DETAIL' : ImageFilter.DETAIL,\n",
        "           'EDGE ENHANCE' : ImageFilter.EDGE_ENHANCE,\n",
        "           'EDGE ENHANCE MORE' : ImageFilter.EDGE_ENHANCE_MORE,\n",
        "           'EMBOSS' : ImageFilter.EMBOSS,\n",
        "           'FIND EDGES' : ImageFilter.FIND_EDGES,\n",
        "           'SHARPEN' : ImageFilter.SHARPEN,\n",
        "           'SMOOTH' : ImageFilter.SMOOTH}\n",
        "\n",
        "fig, axs = plt.subplots(1, len(filtros) + 1, figsize=(40, 20)) # Crea tantos subplots como filtros hay.\n",
        "def nueva_imagen(filtro_use):                                  # más uno que es el original.\n",
        "  filtro_name = filtro_use.upper() # Convierte en mayúsculas para poder tomar los string del diccionario.\n",
        "  if filtro_name in filtros: # Itera sobre el diccionario\n",
        "    filtro = filtros[filtro_name]\n",
        "    new_mascota = mascota.filter(filtro) # Aplica el filtro elegido.\n",
        "    display(new_mascota) # Muestra la imágen filtrada.\n",
        "    new_mascota.save('Imágen_filtrada.jpg') # Guarda la imágen filtrada.\n",
        "  else:\n",
        "    print('El filtro elegido no pertenece a la lista de filtros')\n",
        "\n",
        "  axs[0].imshow(mascota) # Muestra en el primer subplot la imágen original.\n",
        "  axs[0].set_title(\"Imágen original\")\n",
        "\n",
        "# Aplica y muestra los otros filtros en los subplots restantes\n",
        "  for i, (filtro, nombre_filtro) in enumerate(nombres_filtros.items()):\n",
        "    mascota_filtrada = mascota.filter(filtro)\n",
        "    axs[i + 1].imshow(mascota_filtrada)\n",
        "    axs[i + 1].set_title('Filtro aplicado: ' + nombre_filtro)\n",
        "\n",
        "filtro_elegido = input()\n",
        "print()\n",
        "print('Usted ha elegido el filtro: '+ filtro_elegido.upper())\n",
        "print()\n",
        "nueva_imagen(filtro_elegido)\n",
        "print()\n",
        "print('Esta es la imágen con los distintos filtros aplicados')\n",
        "print()\n",
        "plt.show()"
      ],
      "metadata": {
        "id": "DqkdVWyls2bl"
      },
      "execution_count": null,
      "outputs": []
    }
  ]
}