{
  "nbformat": 4,
  "nbformat_minor": 0,
  "metadata": {
    "colab": {
      "provenance": []
    },
    "kernelspec": {
      "name": "python3",
      "display_name": "Python 3"
    },
    "language_info": {
      "name": "python"
    }
  },
  "cells": [
    {
      "cell_type": "markdown",
      "source": [
        "Para acceder a las opciones del Menú, se deberá importar las imágenes que se encuentran en la carpeta img_proy_2 e importar el módulo fotoapp.py."
      ],
      "metadata": {
        "id": "6ipkPEcwxljk"
      }
    },
    {
      "cell_type": "code",
      "source": [
        "import fotoapp\n",
        "\n",
        "print('Menú de Opciones')\n",
        "print()\n",
        "print('1. Mostrar una imagen determinada, bajo el formato de una red social')\n",
        "print('2. Ecualiza y muestra una imágen clara')\n",
        "print('3. Ecualiza y muestra una imágen oscura')\n",
        "print('4. Opción de elegir un filtro para aplicar a una imágen'\n",
        "          '\\n   Muestra la versión de todos los filtros aplicados')\n",
        "print('5. Crear dos bocetos para dibujo o pintura, a partir de dos filtros'\n",
        "          '\\n   diferentes y basados en una imágen determinada')\n",
        "print()\n",
        "print('En todos los casos, queda guardada la imágen generada')\n",
        "\n",
        "print()\n",
        "opc = input('Ingrese opción: ')\n",
        "if opc == '1':\n",
        "    print('Opciones de redes sociales:'\n",
        "          '\\nTwitter \\nFacebook \\nInstagram')\n",
        "    red = input('Ingrese la red social de su elección: ')\n",
        "    fotoapp.look_image('/content/paisaje.jpg', red)\n",
        "\n",
        "elif opc == '2':\n",
        "    fotoapp.equal_robot('robot.jpg')\n",
        "\n",
        "elif opc == '3':\n",
        "    fotoapp.equal_sotano('sotano.jpg')\n",
        "\n",
        "elif opc == '4':\n",
        "    fotoapp.seleccion_filtro()\n",
        "\n",
        "elif opc == '5':\n",
        "    fotoapp.funcion_para_elegir()\n",
        "\n",
        "else:\n",
        "    print('Opción no válida. Intente de nuevo.')\n",
        "\n"
      ],
      "metadata": {
        "id": "OMrSE35KWnv9"
      },
      "execution_count": null,
      "outputs": []
    }
  ]
}